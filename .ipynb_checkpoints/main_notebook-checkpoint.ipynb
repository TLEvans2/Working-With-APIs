{
 "cells": [
  {
   "cell_type": "markdown",
   "metadata": {},
   "source": [
    "# Use this notebook for your 3 choices of APIs"
   ]
  },
  {
   "cell_type": "markdown",
   "metadata": {},
   "source": [
    "# Whisky"
   ]
  },
  {
   "cell_type": "code",
   "execution_count": 4,
   "metadata": {},
   "outputs": [
    {
     "data": {
      "text/html": [
       "<div>\n",
       "<style scoped>\n",
       "    .dataframe tbody tr th:only-of-type {\n",
       "        vertical-align: middle;\n",
       "    }\n",
       "\n",
       "    .dataframe tbody tr th {\n",
       "        vertical-align: top;\n",
       "    }\n",
       "\n",
       "    .dataframe thead th {\n",
       "        text-align: right;\n",
       "    }\n",
       "</style>\n",
       "<table border=\"1\" class=\"dataframe\">\n",
       "  <thead>\n",
       "    <tr style=\"text-align: right;\">\n",
       "      <th></th>\n",
       "      <th>dt</th>\n",
       "      <th>winning_bid_max</th>\n",
       "      <th>winning_bid_min</th>\n",
       "      <th>winning_bid_mean</th>\n",
       "      <th>auction_trading_volume</th>\n",
       "      <th>auction_lots_count</th>\n",
       "      <th>all_auctions_lots_count</th>\n",
       "      <th>auction_name</th>\n",
       "      <th>auction_slug</th>\n",
       "    </tr>\n",
       "  </thead>\n",
       "  <tbody>\n",
       "    <tr>\n",
       "      <th>0</th>\n",
       "      <td>2024-04-01</td>\n",
       "      <td>10336.9</td>\n",
       "      <td>12.9</td>\n",
       "      <td>250.20</td>\n",
       "      <td>229429.0</td>\n",
       "      <td>917</td>\n",
       "      <td>40413</td>\n",
       "      <td>Australian Whisky Auctions</td>\n",
       "      <td>australian-whisky-auctions</td>\n",
       "    </tr>\n",
       "    <tr>\n",
       "      <th>1</th>\n",
       "      <td>2024-04-01</td>\n",
       "      <td>8700.8</td>\n",
       "      <td>0.0</td>\n",
       "      <td>195.49</td>\n",
       "      <td>1024542.6</td>\n",
       "      <td>5241</td>\n",
       "      <td>40413</td>\n",
       "      <td>Catawiki Whisky Auction</td>\n",
       "      <td>catawiki</td>\n",
       "    </tr>\n",
       "    <tr>\n",
       "      <th>2</th>\n",
       "      <td>2024-04-01</td>\n",
       "      <td>940.2</td>\n",
       "      <td>12.8</td>\n",
       "      <td>166.94</td>\n",
       "      <td>16527.4</td>\n",
       "      <td>99</td>\n",
       "      <td>40413</td>\n",
       "      <td>Celtic Whiskey Auction</td>\n",
       "      <td>celtic-whiskey-auction</td>\n",
       "    </tr>\n",
       "    <tr>\n",
       "      <th>3</th>\n",
       "      <td>2024-04-01</td>\n",
       "      <td>4273.5</td>\n",
       "      <td>0.9</td>\n",
       "      <td>118.73</td>\n",
       "      <td>304179.2</td>\n",
       "      <td>2562</td>\n",
       "      <td>40413</td>\n",
       "      <td>Ebay Whisky Auctions</td>\n",
       "      <td>ebay-whisky-auctions</td>\n",
       "    </tr>\n",
       "    <tr>\n",
       "      <th>4</th>\n",
       "      <td>2024-04-01</td>\n",
       "      <td>1651.4</td>\n",
       "      <td>13.6</td>\n",
       "      <td>226.66</td>\n",
       "      <td>56665.8</td>\n",
       "      <td>250</td>\n",
       "      <td>40413</td>\n",
       "      <td>European Whisky Auctions</td>\n",
       "      <td>european-whisky-auctions</td>\n",
       "    </tr>\n",
       "  </tbody>\n",
       "</table>\n",
       "</div>"
      ],
      "text/plain": [
       "           dt  winning_bid_max  winning_bid_min  winning_bid_mean  \\\n",
       "0  2024-04-01          10336.9             12.9            250.20   \n",
       "1  2024-04-01           8700.8              0.0            195.49   \n",
       "2  2024-04-01            940.2             12.8            166.94   \n",
       "3  2024-04-01           4273.5              0.9            118.73   \n",
       "4  2024-04-01           1651.4             13.6            226.66   \n",
       "\n",
       "   auction_trading_volume  auction_lots_count  all_auctions_lots_count  \\\n",
       "0                229429.0                 917                    40413   \n",
       "1               1024542.6                5241                    40413   \n",
       "2                 16527.4                  99                    40413   \n",
       "3                304179.2                2562                    40413   \n",
       "4                 56665.8                 250                    40413   \n",
       "\n",
       "                 auction_name                auction_slug  \n",
       "0  Australian Whisky Auctions  australian-whisky-auctions  \n",
       "1     Catawiki Whisky Auction                    catawiki  \n",
       "2      Celtic Whiskey Auction      celtic-whiskey-auction  \n",
       "3        Ebay Whisky Auctions        ebay-whisky-auctions  \n",
       "4    European Whisky Auctions    european-whisky-auctions  "
      ]
     },
     "execution_count": 4,
     "metadata": {},
     "output_type": "execute_result"
    }
   ],
   "source": [
    "import requests\n",
    "import pandas as pd\n",
    "\n",
    "url = 'https://whiskyhunter.net/api/auctions_data/'\n",
    "headers = {\n",
    "    'accept': 'application/json',\n",
    "    'X-CSRFToken': '7no6OEaBxe6oKKj1bMqmrD3hh8IxCBH1rVSk3S8x41S0V1n27sbppky4E2XG90va'\n",
    "}\n",
    "response = requests.get(url, headers=headers)\n",
    "result = response.json()\n",
    "df = pd.DataFrame.from_dict(result)\n",
    "df.head()"
   ]
  },
  {
   "cell_type": "markdown",
   "metadata": {},
   "source": [
    "# Jokes"
   ]
  },
  {
   "cell_type": "code",
   "execution_count": 6,
   "metadata": {},
   "outputs": [],
   "source": [
    "import json\n",
    "\n",
    "url = 'https://api.chucknorris.io/jokes/random'\n",
    "response = requests.get(url)\n",
    "response.content\n",
    "# turn into dict from bytestring\n",
    "\n",
    "decoded_string = response.content.decode('utf-8')\n",
    "my_dict = json.loads(decoded_string)"
   ]
  },
  {
   "cell_type": "code",
   "execution_count": 7,
   "metadata": {},
   "outputs": [],
   "source": [
    "list_jokes = []\n",
    "\n",
    "for i in range(10):\n",
    "    url = 'https://api.chucknorris.io/jokes/random'\n",
    "    response = requests.get(url)\n",
    "    decoded_string = response.content.decode('utf-8')\n",
    "    jokes_dict = json.loads(decoded_string)\n",
    "    joke = jokes_dict.get('value')\n",
    "    list_jokes.append(joke)"
   ]
  },
  {
   "cell_type": "code",
   "execution_count": 8,
   "metadata": {},
   "outputs": [
    {
     "data": {
      "text/html": [
       "<div>\n",
       "<style scoped>\n",
       "    .dataframe tbody tr th:only-of-type {\n",
       "        vertical-align: middle;\n",
       "    }\n",
       "\n",
       "    .dataframe tbody tr th {\n",
       "        vertical-align: top;\n",
       "    }\n",
       "\n",
       "    .dataframe thead th {\n",
       "        text-align: right;\n",
       "    }\n",
       "</style>\n",
       "<table border=\"1\" class=\"dataframe\">\n",
       "  <thead>\n",
       "    <tr style=\"text-align: right;\">\n",
       "      <th></th>\n",
       "      <th>Joke</th>\n",
       "    </tr>\n",
       "  </thead>\n",
       "  <tbody>\n",
       "    <tr>\n",
       "      <th>0</th>\n",
       "      <td>Of course Chuck Norris' closet goes to Narnia.</td>\n",
       "    </tr>\n",
       "    <tr>\n",
       "      <th>1</th>\n",
       "      <td>Chuck Norris owns several very successful fune...</td>\n",
       "    </tr>\n",
       "    <tr>\n",
       "      <th>2</th>\n",
       "      <td>Davy Crockett shot his first bear when he was ...</td>\n",
       "    </tr>\n",
       "    <tr>\n",
       "      <th>3</th>\n",
       "      <td>CHUCK NORRIS ONCE DONE THE SPLITS ON 2 VAN DAMMES</td>\n",
       "    </tr>\n",
       "    <tr>\n",
       "      <th>4</th>\n",
       "      <td>Kryptonite has been found to contain trace ele...</td>\n",
       "    </tr>\n",
       "    <tr>\n",
       "      <th>5</th>\n",
       "      <td>The Zohan doesn't mess with Chuck Norris.</td>\n",
       "    </tr>\n",
       "    <tr>\n",
       "      <th>6</th>\n",
       "      <td>Ouija Boards have recently been re-designed to...</td>\n",
       "    </tr>\n",
       "    <tr>\n",
       "      <th>7</th>\n",
       "      <td>If u see Chuck Norris you should run,if u can ...</td>\n",
       "    </tr>\n",
       "    <tr>\n",
       "      <th>8</th>\n",
       "      <td>Chuck Norris's \"Will\" will never be stronger t...</td>\n",
       "    </tr>\n",
       "    <tr>\n",
       "      <th>9</th>\n",
       "      <td>Chuck Norris don't do facebook. No one can eve...</td>\n",
       "    </tr>\n",
       "  </tbody>\n",
       "</table>\n",
       "</div>"
      ],
      "text/plain": [
       "                                                Joke\n",
       "0     Of course Chuck Norris' closet goes to Narnia.\n",
       "1  Chuck Norris owns several very successful fune...\n",
       "2  Davy Crockett shot his first bear when he was ...\n",
       "3  CHUCK NORRIS ONCE DONE THE SPLITS ON 2 VAN DAMMES\n",
       "4  Kryptonite has been found to contain trace ele...\n",
       "5          The Zohan doesn't mess with Chuck Norris.\n",
       "6  Ouija Boards have recently been re-designed to...\n",
       "7  If u see Chuck Norris you should run,if u can ...\n",
       "8  Chuck Norris's \"Will\" will never be stronger t...\n",
       "9  Chuck Norris don't do facebook. No one can eve..."
      ]
     },
     "execution_count": 8,
     "metadata": {},
     "output_type": "execute_result"
    }
   ],
   "source": [
    "joke = my_dict.get('value')\n",
    "jokes = pd.DataFrame(list_jokes)\n",
    "jokes.columns = ['Joke']\n",
    "jokes"
   ]
  },
  {
   "cell_type": "markdown",
   "metadata": {},
   "source": [
    "# Colour"
   ]
  },
  {
   "cell_type": "code",
   "execution_count": 9,
   "metadata": {},
   "outputs": [
    {
     "data": {
      "text/html": [
       "<div>\n",
       "<style scoped>\n",
       "    .dataframe tbody tr th:only-of-type {\n",
       "        vertical-align: middle;\n",
       "    }\n",
       "\n",
       "    .dataframe tbody tr th {\n",
       "        vertical-align: top;\n",
       "    }\n",
       "\n",
       "    .dataframe thead th {\n",
       "        text-align: right;\n",
       "    }\n",
       "</style>\n",
       "<table border=\"1\" class=\"dataframe\">\n",
       "  <thead>\n",
       "    <tr style=\"text-align: right;\">\n",
       "      <th></th>\n",
       "      <th>R</th>\n",
       "      <th>G</th>\n",
       "      <th>B</th>\n",
       "    </tr>\n",
       "  </thead>\n",
       "  <tbody>\n",
       "    <tr>\n",
       "      <th>0</th>\n",
       "      <td>203</td>\n",
       "      <td>165</td>\n",
       "      <td>37</td>\n",
       "    </tr>\n",
       "    <tr>\n",
       "      <th>1</th>\n",
       "      <td>216</td>\n",
       "      <td>74</td>\n",
       "      <td>70</td>\n",
       "    </tr>\n",
       "    <tr>\n",
       "      <th>2</th>\n",
       "      <td>172</td>\n",
       "      <td>11</td>\n",
       "      <td>11</td>\n",
       "    </tr>\n",
       "    <tr>\n",
       "      <th>3</th>\n",
       "      <td>159</td>\n",
       "      <td>9</td>\n",
       "      <td>17</td>\n",
       "    </tr>\n",
       "    <tr>\n",
       "      <th>4</th>\n",
       "      <td>66</td>\n",
       "      <td>8</td>\n",
       "      <td>10</td>\n",
       "    </tr>\n",
       "  </tbody>\n",
       "</table>\n",
       "</div>"
      ],
      "text/plain": [
       "     R    G   B\n",
       "0  203  165  37\n",
       "1  216   74  70\n",
       "2  172   11  11\n",
       "3  159    9  17\n",
       "4   66    8  10"
      ]
     },
     "execution_count": 9,
     "metadata": {},
     "output_type": "execute_result"
    }
   ],
   "source": [
    "import requests\n",
    "\n",
    "# Define the URL\n",
    "url = 'http://colormind.io/api/'\n",
    "\n",
    "# Define the payload (data)\n",
    "data = '{\"model\":\"default\"}'\n",
    "\n",
    "response = requests.get(url, data=data)\n",
    "\n",
    "# Print the response\n",
    "# print(response.json())\n",
    "response_json = response.json()\n",
    "colors = response_json['result']\n",
    "colors\n",
    "df = pd.DataFrame(colors, columns=['R', 'G', 'B'])\n",
    "df"
   ]
  },
  {
   "cell_type": "code",
   "execution_count": null,
   "metadata": {},
   "outputs": [],
   "source": []
  },
  {
   "cell_type": "code",
   "execution_count": null,
   "metadata": {},
   "outputs": [],
   "source": []
  },
  {
   "cell_type": "code",
   "execution_count": null,
   "metadata": {},
   "outputs": [],
   "source": []
  },
  {
   "cell_type": "code",
   "execution_count": null,
   "metadata": {},
   "outputs": [],
   "source": []
  },
  {
   "cell_type": "code",
   "execution_count": null,
   "metadata": {},
   "outputs": [],
   "source": []
  },
  {
   "cell_type": "code",
   "execution_count": null,
   "metadata": {},
   "outputs": [],
   "source": []
  },
  {
   "cell_type": "code",
   "execution_count": null,
   "metadata": {},
   "outputs": [],
   "source": []
  },
  {
   "cell_type": "code",
   "execution_count": null,
   "metadata": {},
   "outputs": [],
   "source": []
  },
  {
   "cell_type": "code",
   "execution_count": null,
   "metadata": {},
   "outputs": [],
   "source": []
  },
  {
   "cell_type": "code",
   "execution_count": null,
   "metadata": {},
   "outputs": [],
   "source": []
  },
  {
   "cell_type": "code",
   "execution_count": null,
   "metadata": {},
   "outputs": [],
   "source": []
  },
  {
   "cell_type": "code",
   "execution_count": null,
   "metadata": {},
   "outputs": [],
   "source": []
  },
  {
   "cell_type": "code",
   "execution_count": null,
   "metadata": {},
   "outputs": [],
   "source": []
  },
  {
   "cell_type": "code",
   "execution_count": null,
   "metadata": {},
   "outputs": [],
   "source": []
  },
  {
   "cell_type": "code",
   "execution_count": null,
   "metadata": {},
   "outputs": [],
   "source": []
  },
  {
   "cell_type": "code",
   "execution_count": null,
   "metadata": {},
   "outputs": [],
   "source": []
  },
  {
   "cell_type": "code",
   "execution_count": null,
   "metadata": {},
   "outputs": [],
   "source": []
  },
  {
   "cell_type": "code",
   "execution_count": null,
   "metadata": {},
   "outputs": [],
   "source": []
  },
  {
   "cell_type": "code",
   "execution_count": null,
   "metadata": {},
   "outputs": [],
   "source": []
  },
  {
   "cell_type": "code",
   "execution_count": null,
   "metadata": {},
   "outputs": [],
   "source": []
  },
  {
   "cell_type": "code",
   "execution_count": null,
   "metadata": {},
   "outputs": [],
   "source": []
  },
  {
   "cell_type": "code",
   "execution_count": null,
   "metadata": {},
   "outputs": [],
   "source": []
  },
  {
   "cell_type": "code",
   "execution_count": null,
   "metadata": {},
   "outputs": [],
   "source": []
  },
  {
   "cell_type": "code",
   "execution_count": null,
   "metadata": {},
   "outputs": [],
   "source": []
  },
  {
   "cell_type": "code",
   "execution_count": null,
   "metadata": {},
   "outputs": [],
   "source": []
  },
  {
   "cell_type": "code",
   "execution_count": null,
   "metadata": {},
   "outputs": [],
   "source": []
  },
  {
   "cell_type": "code",
   "execution_count": null,
   "metadata": {},
   "outputs": [],
   "source": []
  },
  {
   "cell_type": "code",
   "execution_count": null,
   "metadata": {},
   "outputs": [],
   "source": []
  },
  {
   "cell_type": "code",
   "execution_count": null,
   "metadata": {},
   "outputs": [],
   "source": []
  }
 ],
 "metadata": {
  "kernelspec": {
   "display_name": "Python 3 (ipykernel)",
   "language": "python",
   "name": "python3"
  },
  "language_info": {
   "codemirror_mode": {
    "name": "ipython",
    "version": 3
   },
   "file_extension": ".py",
   "mimetype": "text/x-python",
   "name": "python",
   "nbconvert_exporter": "python",
   "pygments_lexer": "ipython3",
   "version": "3.11.7"
  }
 },
 "nbformat": 4,
 "nbformat_minor": 4
}
